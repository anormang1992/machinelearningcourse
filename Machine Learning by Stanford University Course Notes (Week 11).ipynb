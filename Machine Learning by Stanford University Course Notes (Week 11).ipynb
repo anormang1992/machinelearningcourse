{
 "cells": [
  {
   "cell_type": "markdown",
   "metadata": {},
   "source": [
    "# Application Example: Photo OCR"
   ]
  },
  {
   "cell_type": "markdown",
   "metadata": {},
   "source": [
    "### Problem Description and Pipeline\n",
    "\n",
    "- Photo OCR stands for **Photo Optical Character Recognition**\n",
    "- An OCR pipeline:\n",
    "    1. Identify regions where text is present in an image\n",
    "    2. Character segmentation, i.e. divide the text in a region into individual characters\n",
    "    3. Character classification\n",
    "    \n",
    "### Sliding Windows\n",
    "\n",
    "- Photo OCR for text is more difficult then say a CV program that detects pedestrians because the aspect ratio for the bounding boxes around text can differ whereas the aspect ratio for a pedestrian is relatively fixed.\n",
    "- A sliding window classifier takes a rectangular box/window and slides it across an image. Each iteration it will take a 'step' and run the resulting bounding box at the new location through a classifier to determine if the pixels within the box constitute a pedestrian (or other target result e.g. text).\n",
    "\n",
    "### Getting Lots of Data: Artificial Data Synthesis\n",
    "\n",
    "1. Make sure you have a low-bias classifier before expending the effort of generating more artificial data for the training set (Plot learning curves). E.g. keep increasing the number of features/number of hidden units in neural network until you have a low bias classifier.\n",
    "2. \"How much work would it be to get 10x as much data as we currently have?\"\n",
    "    - Artificial Data Synthesis\n",
    "    - Collect/label data yourself\n",
    "    - \"Crowd source\" (e.g. Amazon Mechanical Turk)"
   ]
  }
 ],
 "metadata": {
  "kernelspec": {
   "display_name": "Python 3",
   "language": "python",
   "name": "python3"
  },
  "language_info": {
   "codemirror_mode": {
    "name": "ipython",
    "version": 3
   },
   "file_extension": ".py",
   "mimetype": "text/x-python",
   "name": "python",
   "nbconvert_exporter": "python",
   "pygments_lexer": "ipython3",
   "version": "3.7.9"
  }
 },
 "nbformat": 4,
 "nbformat_minor": 4
}
