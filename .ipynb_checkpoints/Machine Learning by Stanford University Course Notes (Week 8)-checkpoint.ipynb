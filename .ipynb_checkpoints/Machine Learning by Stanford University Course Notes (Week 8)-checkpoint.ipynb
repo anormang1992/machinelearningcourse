{
 "cells": [
  {
   "cell_type": "markdown",
   "metadata": {},
   "source": [
    "# Clustering"
   ]
  },
  {
   "cell_type": "markdown",
   "metadata": {},
   "source": [
    "### Introduction to Unsupervised Learning\n",
    "\n",
    "- An unsupervised learning problem consists of data without any labels associated with it. I.e. A set of data with no positve or negative labels, just a training set of $x^{(1)}, x^{(2)}, x^{(3)},..., x^{(m)}$ values (a training set with no y values corresponding to each x value)\n",
    "- An unsupervised learning algorithm is used to find patterns/structure in an unlabled dataset\n",
    "    - an algorithm that determines/discovers data grouped into unique clusters is called a clustering algorithm\n",
    "    - Applications of clustering:\n",
    "        - Market segmentation\n",
    "        - Social network analysis\n",
    "        - Organize computing clusters\n",
    "        - Astronomical data analysis\n",
    "        \n",
    "### K-means Algorithm\n",
    "\n",
    "1. When running the K-means algorithm, the first step is to randomly initialize the **cluster centroids**. The number of cluster centroids, K is equaled to the number of clusters you wish to try to seperate your data into.\n",
    "2. The next step is the cluster assignment step. Each training set will be assigned a cluster centroid based on its proxmity to the centroid.\n",
    "3. The move centroid step moves the centroid to the average of the points assigned to the same centroid.\n",
    "4. Repeat steps 2 - 3 until convergence\n",
    "\n",
    "- Formal definition of K-means algorithm\n",
    "    - Input:\n",
    "        - K (number of clusters)\n",
    "        - Training set {$x^{(1)}, x^{(2)}, ..., x^{(m)}$}\n",
    "        \n",
    "    - $x^{(i)} \\in \\mathbb{R}^n$ (drop $x_0 = 1$ covnention)\n",
    "    \n",
    "    - Randomly initialize K cluster centroids $\\mu_1,\\mu_1,...,\\mu_K \\in \\mathbb{R}^n$\n",
    "    - Repeat:\n",
    "        - For i = 1 to m\n",
    "            - $c^{(i)}:=$ index (from 1 to K) cluster centroid closest to $x^{(i)}$\n",
    "            - also written as $c^{(i)}:= \\left\\Vert x^{(i)} - \\mu_k \\right\\Vert^2$ = the distance between the xi training example and the cluster centroid. Find the min value of k that minimizes the distances function and assign xi to that cluster centroid k.\n",
    "        - For k = 1 to K\n",
    "            - $\\mu_k:=$ average (mean) of points assigned to cluster k\n",
    "            \n",
    "### Optimization Objective\n",
    "\n",
    "- Notation:\n",
    "    - $c^{(i)}=$ index of cluster to which example $x^{(i)}$ is currently assigned\n",
    "    - $\\mu_k=$ cluster centroid $k$\n",
    "    - $\\mu_{c^{(i)}}=$ cluster centroid of cluster to which example $x^{(i)}$ has been assigned\n",
    "    \n",
    "- Optimization Objective:\n",
    "    - $J(c^{(1)},...,c^{(m)},\\mu_1,...\\mu_K) = \\frac{1}{m}\\sum \\limits_{i=1}^m\\left\\Vert x^{(i)} - \\mu_{c^{(i)}} \\right\\Vert^2$\n",
    "    - Also called the Distortion Cost Function, or the Distortion of the k-means algorithm\n",
    "    \n",
    "### Random Initialization\n",
    "\n",
    "- Randomly choose K training examples (K = number of desired cluster centroids) and set $\\mu_1,...\\mu_k$ equal to those K examples.\n",
    "- K-means can sometimes converge to local optima depending on the where the randomly initialized cluster centroids are assigned\n",
    "    - Try multiple random initializations and select the best result to avoid k-means getting stuck at a local optima\n",
    "    - Example:\n",
    "        - For i = 1 to 100:\n",
    "            1. Randomly initialize K-means\n",
    "            2. Run K-means. Get $(c^{(1)},...,c^{(m)},\\mu_1,...\\mu_K)$\n",
    "            3. Compute cost function (distortion)\n",
    "         - Select the one with the lowest cost $J(c^{(1)},...,c^{(m)},\\mu_1,...\\mu_K)$\n",
    "         \n",
    "### Choosing the Number of Clusters\n",
    "\n",
    "- "
   ]
  },
  {
   "cell_type": "code",
   "execution_count": null,
   "metadata": {},
   "outputs": [],
   "source": []
  }
 ],
 "metadata": {
  "kernelspec": {
   "display_name": "Python 3",
   "language": "python",
   "name": "python3"
  },
  "language_info": {
   "codemirror_mode": {
    "name": "ipython",
    "version": 3
   },
   "file_extension": ".py",
   "mimetype": "text/x-python",
   "name": "python",
   "nbconvert_exporter": "python",
   "pygments_lexer": "ipython3",
   "version": "3.7.9"
  }
 },
 "nbformat": 4,
 "nbformat_minor": 4
}
